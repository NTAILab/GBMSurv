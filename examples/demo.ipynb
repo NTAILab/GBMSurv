{
 "cells": [
  {
   "cell_type": "code",
   "execution_count": 1,
   "metadata": {},
   "outputs": [],
   "source": [
    "%load_ext autoreload\n",
    "%autoreload 2"
   ]
  },
  {
   "cell_type": "code",
   "execution_count": null,
   "metadata": {},
   "outputs": [],
   "source": [
    "import numpy as np\n",
    "\n",
    "from sklearn.model_selection import train_test_split\n",
    "import matplotlib.pyplot as plt\n",
    "\n",
    "import sys\n",
    "import os\n",
    "sys.path.append(os.path.abspath(os.path.join(os.path.dirname(\"__file__\"), '..')))\n",
    "\n",
    "from gbmsurv import (\n",
    "    WeibGBMSurvivalModel,\n",
    "    LogNormGBMSurvivalModel,\n",
    "    GBMSurvivalModel,\n",
    ")"
   ]
  },
  {
   "cell_type": "markdown",
   "metadata": {},
   "source": [
    "# Example"
   ]
  },
  {
   "cell_type": "code",
   "execution_count": 3,
   "metadata": {},
   "outputs": [],
   "source": [
    "n_samples = 1000\n",
    "\n",
    "n_features = 5\n",
    "features = np.random.rand(n_samples, n_features)\n",
    "\n",
    "coefficients = np.array([10, 0.1, 1.e-7, -0.15, 1.e-7])\n",
    "lambda_val = 1.e+2\n",
    "v_lambda = 12\n",
    "U = np.random.uniform(0, 1, n_samples)\n",
    "time = (-np.log(U) / (lambda_val * np.exp(np.dot(features, coefficients)))) ** (1/v_lambda)\n",
    "\n",
    "delta = np.random.choice([0, 1], size=n_samples, p=[0.2, 0.8])\n",
    "\n",
    "target = np.zeros((2, len(time)))\n",
    "target[1] = time\n",
    "\n",
    "target[0] = delta\n",
    "target = target.transpose()\n",
    "\n",
    "target = np.array(list(map(tuple, target)), dtype=[('delta', '?'), ('time', 'f8')])"
   ]
  },
  {
   "cell_type": "code",
   "execution_count": 4,
   "metadata": {},
   "outputs": [],
   "source": [
    "X_train, X_test, y_train, y_test = train_test_split(features, target, test_size=0.2, random_state=42)"
   ]
  },
  {
   "cell_type": "markdown",
   "metadata": {},
   "source": [
    "## Weibull parametric model"
   ]
  },
  {
   "cell_type": "code",
   "execution_count": 5,
   "metadata": {},
   "outputs": [],
   "source": [
    "weib = WeibGBMSurvivalModel(n_estimators=100, initial_params=False)\n",
    "weib.fit(X_train, y_train)\n",
    "\n",
    "predicted_proba = weib.predict(X_test)"
   ]
  },
  {
   "cell_type": "code",
   "execution_count": 6,
   "metadata": {},
   "outputs": [
    {
     "data": {
      "text/plain": [
       "0.8006327150921159"
      ]
     },
     "execution_count": 6,
     "metadata": {},
     "output_type": "execute_result"
    }
   ],
   "source": [
    "weib.score(X_test, y_test)"
   ]
  },
  {
   "cell_type": "code",
   "execution_count": 7,
   "metadata": {},
   "outputs": [
    {
     "data": {
      "text/plain": [
       "{'learning_rate': 0.1,\n",
       " 'n_estimators': 100,\n",
       " 'max_depth': 7,\n",
       " 'random_seed': 42,\n",
       " 'lambda_val': 1,\n",
       " 'alpha': 0,\n",
       " 'colsample_bytree': 1,\n",
       " 'colsample_bylevel': 1,\n",
       " 'colsample_bynode': 1,\n",
       " 'max_leaves': 0,\n",
       " 'max_bin': 256,\n",
       " 'min_child_weight': 1,\n",
       " 'subsample': 1,\n",
       " 'initial_params': False}"
      ]
     },
     "execution_count": 7,
     "metadata": {},
     "output_type": "execute_result"
    }
   ],
   "source": [
    "weib.get_params()"
   ]
  },
  {
   "cell_type": "markdown",
   "metadata": {},
   "source": [
    "## Log-normal parametric model"
   ]
  },
  {
   "cell_type": "code",
   "execution_count": 8,
   "metadata": {},
   "outputs": [],
   "source": [
    "lognorm = LogNormGBMSurvivalModel(n_estimators=100, learning_rate=1e-3)\n",
    "lognorm.fit(X_train, y_train)\n",
    "\n",
    "predicted_proba = lognorm.predict(X_test)"
   ]
  },
  {
   "cell_type": "code",
   "execution_count": 9,
   "metadata": {},
   "outputs": [
    {
     "data": {
      "text/plain": [
       "0.8436821537125488"
      ]
     },
     "execution_count": 9,
     "metadata": {},
     "output_type": "execute_result"
    }
   ],
   "source": [
    "lognorm.score(X_test, y_test)"
   ]
  },
  {
   "cell_type": "code",
   "execution_count": 10,
   "metadata": {},
   "outputs": [
    {
     "data": {
      "text/plain": [
       "{'learning_rate': 0.001,\n",
       " 'n_estimators': 100,\n",
       " 'max_depth': 7,\n",
       " 'random_seed': 42,\n",
       " 'lambda_val': 1,\n",
       " 'alpha': 0,\n",
       " 'colsample_bytree': 1,\n",
       " 'colsample_bylevel': 1,\n",
       " 'colsample_bynode': 1,\n",
       " 'max_leaves': 0,\n",
       " 'max_bin': 256,\n",
       " 'min_child_weight': 1,\n",
       " 'subsample': 1,\n",
       " 'initial_params': True}"
      ]
     },
     "execution_count": 10,
     "metadata": {},
     "output_type": "execute_result"
    }
   ],
   "source": [
    "lognorm.get_params()"
   ]
  },
  {
   "cell_type": "markdown",
   "metadata": {},
   "source": [
    "## Non-parametric model"
   ]
  },
  {
   "cell_type": "code",
   "execution_count": 11,
   "metadata": {},
   "outputs": [],
   "source": [
    "gbmsurv = GBMSurvivalModel(n_estimators=100, interval_grid='time_distribution_based')\n",
    "gbmsurv.fit(X_train, y_train)\n",
    "\n",
    "predicted_proba = gbmsurv.predict(X_test)"
   ]
  },
  {
   "cell_type": "code",
   "execution_count": 12,
   "metadata": {},
   "outputs": [
    {
     "data": {
      "text/plain": [
       "0.8775510204081632"
      ]
     },
     "execution_count": 12,
     "metadata": {},
     "output_type": "execute_result"
    }
   ],
   "source": [
    "gbmsurv.score(X_test, y_test)"
   ]
  },
  {
   "cell_type": "code",
   "execution_count": 13,
   "metadata": {},
   "outputs": [
    {
     "data": {
      "text/plain": [
       "{'learning_rate': 0.1,\n",
       " 'n_estimators': 100,\n",
       " 'max_depth': 7,\n",
       " 'random_seed': 42,\n",
       " 'lambda_val': 1,\n",
       " 'alpha': 0,\n",
       " 'num_intervals': 10,\n",
       " 'colsample_bytree': 1,\n",
       " 'colsample_bylevel': 1,\n",
       " 'colsample_bynode': 1,\n",
       " 'max_leaves': 0,\n",
       " 'max_bin': 256,\n",
       " 'min_child_weight': 1,\n",
       " 'subsample': 1,\n",
       " 'interval_grid': 'time_distribution_based'}"
      ]
     },
     "execution_count": 13,
     "metadata": {},
     "output_type": "execute_result"
    }
   ],
   "source": [
    "gbmsurv.get_params()"
   ]
  }
 ],
 "metadata": {
  "kernelspec": {
   "display_name": "SurvivalLoss",
   "language": "python",
   "name": "python3"
  },
  "language_info": {
   "codemirror_mode": {
    "name": "ipython",
    "version": 3
   },
   "file_extension": ".py",
   "mimetype": "text/x-python",
   "name": "python",
   "nbconvert_exporter": "python",
   "pygments_lexer": "ipython3",
   "version": "3.12.2"
  }
 },
 "nbformat": 4,
 "nbformat_minor": 2
}
